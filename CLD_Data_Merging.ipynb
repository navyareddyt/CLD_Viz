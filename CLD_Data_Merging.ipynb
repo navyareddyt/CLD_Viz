{
  "nbformat": 4,
  "nbformat_minor": 0,
  "metadata": {
    "colab": {
      "provenance": [],
      "collapsed_sections": [
        "q-SiAva1RpWM",
        "gdMGsBidRuQx"
      ]
    },
    "kernelspec": {
      "name": "python3",
      "display_name": "Python 3"
    },
    "language_info": {
      "name": "python"
    }
  },
  "cells": [
    {
      "cell_type": "markdown",
      "source": [
        "# Connect to the Google Drive"
      ],
      "metadata": {
        "id": "YcWAdLKyRYwT"
      }
    },
    {
      "cell_type": "code",
      "execution_count": null,
      "metadata": {
        "id": "O5iA1XflZZku",
        "colab": {
          "base_uri": "https://localhost:8080/"
        },
        "outputId": "1c472ff3-999b-4d23-bd56-98bd80386590"
      },
      "outputs": [
        {
          "output_type": "stream",
          "name": "stdout",
          "text": [
            "Mounted at /content/gdrive\n"
          ]
        }
      ],
      "source": [
        "from google.colab import drive\n",
        "drive.mount('/content/gdrive',force_remount=True)"
      ]
    },
    {
      "cell_type": "markdown",
      "source": [
        "# Install Packages"
      ],
      "metadata": {
        "id": "q-SiAva1RpWM"
      }
    },
    {
      "cell_type": "code",
      "source": [
        "!pip install xlsxwriter\n",
        "!pip install chardet"
      ],
      "metadata": {
        "colab": {
          "base_uri": "https://localhost:8080/"
        },
        "id": "eph2WxStPWXZ",
        "outputId": "e609fa0e-e106-4e79-9b53-abd40c6d7608"
      },
      "execution_count": null,
      "outputs": [
        {
          "output_type": "stream",
          "name": "stdout",
          "text": [
            "Collecting xlsxwriter\n",
            "  Downloading XlsxWriter-3.1.9-py3-none-any.whl (154 kB)\n",
            "\u001b[?25l     \u001b[90m━━━━━━━━━━━━━━━━━━━━━━━━━━━━━━━━━━━━━━━━\u001b[0m \u001b[32m0.0/154.8 kB\u001b[0m \u001b[31m?\u001b[0m eta \u001b[36m-:--:--\u001b[0m\r\u001b[2K     \u001b[91m━━━━━━━━━━━━━━━━━━━━━━━━━━━━━━━━━━━━━━━\u001b[0m\u001b[91m╸\u001b[0m \u001b[32m153.6/154.8 kB\u001b[0m \u001b[31m5.1 MB/s\u001b[0m eta \u001b[36m0:00:01\u001b[0m\r\u001b[2K     \u001b[90m━━━━━━━━━━━━━━━━━━━━━━━━━━━━━━━━━━━━━━━━\u001b[0m \u001b[32m154.8/154.8 kB\u001b[0m \u001b[31m3.9 MB/s\u001b[0m eta \u001b[36m0:00:00\u001b[0m\n",
            "\u001b[?25hInstalling collected packages: xlsxwriter\n",
            "Successfully installed xlsxwriter-3.1.9\n",
            "Requirement already satisfied: chardet in /usr/local/lib/python3.10/dist-packages (5.2.0)\n"
          ]
        }
      ]
    },
    {
      "cell_type": "markdown",
      "source": [
        "# Import Libraries"
      ],
      "metadata": {
        "id": "gdMGsBidRuQx"
      }
    },
    {
      "cell_type": "code",
      "source": [
        "import os\n",
        "import pandas as pd\n",
        "import chardet"
      ],
      "metadata": {
        "id": "LZMcxcOIPf9H"
      },
      "execution_count": null,
      "outputs": []
    },
    {
      "cell_type": "markdown",
      "source": [
        "# Directories"
      ],
      "metadata": {
        "id": "VD9iOXHvRyf0"
      }
    },
    {
      "cell_type": "code",
      "source": [
        "# Uncomment the directories as per requirement\n",
        "\n",
        "directories = {\n",
        "    #\"Core\": r\"/content/gdrive/MyDrive/CLD/Core/\",\n",
        "    #\"History\": r\"/content/gdrive/MyDrive/CLD/History/\",\n",
        "    #\"IDs\": r\"/content/gdrive/MyDrive/CLD/IDs/\",\n",
        "    #\"Office\": r\"/content/gdrive/MyDrive/CLD/Office/\",\n",
        "    #\"Political\": r\"/content/gdrive/MyDrive/CLD/Political/\",\n",
        "    #\"Portrait\": r\"/content/gdrive/MyDrive/CLD/Portrait/\",\n",
        "    #\"Profession\": r\"/content/gdrive/MyDrive/CLD/Profession/\"\n",
        "    #\"Social\": r\"/content/gdrive/MyDrive/CLD/Social/\",\n",
        "    #\"Traffic\": r\"/content/gdrive/MyDrive/CLD/Traffic/\"\n",
        "}"
      ],
      "metadata": {
        "id": "uKbhXz-ZQChB"
      },
      "execution_count": null,
      "outputs": []
    },
    {
      "cell_type": "markdown",
      "source": [
        "# Merging all country files in one csv for the respective directories"
      ],
      "metadata": {
        "id": "bO_ngXGQSfjS"
      }
    },
    {
      "cell_type": "code",
      "source": [
        "for directory_name, directory_path in directories.items():\n",
        "    # Get list of CSV files in the directory\n",
        "    csv_files = [f for f in os.listdir(directory_path) if f.endswith('.csv')]\n",
        "\n",
        "    # Create an Excel writer to save multiple DataFrames to a single Excel file\n",
        "    excel_writer = pd.ExcelWriter(f\"/content/gdrive/MyDrive/CLD/1_Merged/{directory_name}_merged.xlsx\", engine='xlsxwriter')\n",
        "\n",
        "    # Iterate through each CSV file in the directory\n",
        "    for csv_file in csv_files:\n",
        "        try:\n",
        "            # Use chardet to detect the encoding\n",
        "            with open(os.path.join(directory_path, csv_file), 'rb') as f:\n",
        "                result = chardet.detect(f.read())\n",
        "\n",
        "            # Read the CSV file into a DataFrame, skip problematic rows causing the error\n",
        "            df = pd.read_csv(os.path.join(directory_path, csv_file), encoding=result['encoding'], on_bad_lines='skip')\n",
        "\n",
        "            # Save the DataFrame to a sheet in the Excel file with the original column names\n",
        "            sheet_name = os.path.splitext(csv_file)[0]\n",
        "            df.to_excel(excel_writer, sheet_name=sheet_name, index=False)\n",
        "\n",
        "        except pd.errors.ParserError as e:\n",
        "            print(f\"Error processing {csv_file}: {e}\")\n",
        "\n",
        "    # Close the Excel writer for the current directory\n",
        "    excel_writer.close()\n",
        "\n",
        "    print(f'Merged data for {directory_name} saved to /content/gdrive/MyDrive/CLD/1_Merged/{directory_name}_merged.xlsx')"
      ],
      "metadata": {
        "id": "me7YsKUWQPbz"
      },
      "execution_count": null,
      "outputs": []
    },
    {
      "cell_type": "markdown",
      "source": [
        "# View column names of all sheets of a particular Directory"
      ],
      "metadata": {
        "id": "hnwuEhRpZ3WV"
      }
    },
    {
      "cell_type": "code",
      "source": [
        "merged_file_path = \"/content/gdrive/MyDrive/1_Merged/CLD/1_Merged/Profession_merged.xlsx\"\n",
        "\n",
        "# Read the \"Core\" merged Excel file\n",
        "merged_excel_reader = pd.ExcelFile(merged_file_path)\n",
        "\n",
        "# Get headers from all sheets\n",
        "all_sheet_headers = {}\n",
        "\n",
        "for sheet_name in merged_excel_reader.sheet_names:\n",
        "    # Read each sheet into a DataFrame\n",
        "    df = pd.read_excel(merged_excel_reader, sheet_name)\n",
        "\n",
        "    # Get headers of the DataFrame\n",
        "    sheet_headers = list(df.columns)\n",
        "\n",
        "    # Store the headers in the dictionary\n",
        "    all_sheet_headers[sheet_name] = sheet_headers\n",
        "\n",
        "# Print the headers for each sheet\n",
        "for sheet_name, headers in all_sheet_headers.items():\n",
        "    print(f\"Sheet: {sheet_name}\")\n",
        "    print(\"Headers:\", headers)\n",
        "    print(\"\\n\")\n"
      ],
      "metadata": {
        "colab": {
          "base_uri": "https://localhost:8080/"
        },
        "id": "eF24a9LualF7",
        "outputId": "46ed37e3-66e0-41e7-c257-6e136b028047"
      },
      "execution_count": null,
      "outputs": [
        {
          "output_type": "stream",
          "name": "stdout",
          "text": [
            "Sheet: ita_senate_profession\n",
            "Headers: ['wikidataid', 'academic', 'activist', 'actor', 'advocate', 'aeronautical_engineer', 'agrarian_historian', 'agronomist', 'alpine_skier', 'ambassador', 'anthropologist', 'archaeologist', 'architect', 'art_historian', 'artist', 'association_football_manager', 'association_football_player', 'association_football_referee', 'astronomer', 'astrophysicist', 'author', 'bank_teller', 'banker', 'biochemist', 'biographer', 'biologist', 'blogger', 'building_manager', 'business_manager', 'businessperson', 'canoeist', 'cardiologist', 'cartographer', 'catholic_priest', 'ceramicist', 'chemist', 'child_psychiatrist', 'church_historian', 'civil_lawyer', 'civil_servant', 'cleric', 'clerk', 'composer', 'constitutionalist', 'contemporary_historian', 'criminal', 'criminologist', 'demographer', 'dentist', 'deputy_chairperson', 'diplomat', 'director', 'dramaturge', 'drawer', 'ecclesiastical_lawyer', 'economist', 'editor', 'engineer', 'engraver', 'entomologist', 'entrepreneur', 'essayist', 'farmer', 'fencer', 'film_actor', 'film_critic', 'film_director', 'film_producer', 'financier', 'flutist', 'full_professor', 'geographer', 'geologist', 'germanist', 'graphic_artist', 'gynaecologist', 'harpsichordist', 'historian', 'historian_of_modern_age', 'human_rights_defender', 'industrialist', 'interior_designer', 'international_forum_participant', 'journalist', 'judge', 'jurist', 'laborer', 'lawyer', 'legal_counsel', 'legal_historian', 'librarian', 'librettist', 'linguist', 'literary', 'literary_critic', 'literary_historian', 'magistrate', 'manager', 'mathematician', 'mayor', 'media_proprietor', 'memoirist', 'merchant', 'microbiologist', 'military_officer', 'military_personnel', 'minister', 'model', 'mountaineer', 'music_executive', 'musician', 'naval_officer', 'neonatologist', 'newspaper_editor', 'non-fiction_writer', 'novelist', 'nuclear_physicist', 'numismatist', 'nurse', 'oncologist', 'opinion_journalist', 'painter', 'parasitologist', 'partisan', 'pastor', 'pedagogue', 'pediatrician', 'pharmacologist', 'philanthropist', 'philologist', 'philosopher', 'physician', 'physician_writer', 'physicist', 'physiologist', 'pianist', 'plastic_surgeon', 'playwright', 'poet', 'poet_lawyer', 'political_adviser', 'political_scientist', 'politician', 'prefect', 'president', 'professor', 'prosaist', 'prosecutor', 'psychiatrist', 'psychoanalyst', 'psychologist', 'pubblicista_journalist', 'publisher', 'referee', 'researcher', 'science_fiction_writer', 'scout_leader', 'screenwriter', 'secretary_of_state', 'senator', 'ship-owner', 'singer', 'sociologist', 'soldier', 'sports_executive', 'sprinter', 'spy', 'stage_actor', 'statistician', 'superintendent', 'surgeon', 'swimmer', 'tax_advisor', 'teacher', 'television_presenter', 'television_producer', 'theatre_critic', 'theatre_manager', 'theatrical_director', 'theologian', 'trade_unionist', 'translator', 'university_teacher', 'unknown', 'urban_planner', 'veterinarian', 'worker', 'writer']\n",
            "\n",
            "\n",
            "Sheet: cze_profession\n",
            "Headers: ['wikidataid', 'accountant', 'actor', 'analyst', 'archaeologist', 'athlete', 'biochemist', 'border_guardsman', 'businessperson', 'chess_player', 'civil_engineer', 'civil_servant', 'computer_scientist', 'consultant', 'cross-country_skier', 'deputy', 'diplomat', 'director', 'documentarian', 'draftsperson', 'dramaturge', 'driving_instructor', 'economist', 'editor', 'electrical_engineer', 'electrician', 'engineer', 'entrepreneur', 'exhibition_curator', 'explorer', 'film_director', 'film_historian', 'firefighter', 'geography_teacher', 'graphic_artist', 'gynaecologist', 'harpsichordist', 'high_school_teacher', 'historian', 'ice_hockey_player', 'interpreter', 'journalist', 'jurist', 'lawyer', 'lecturer', 'linguist', 'local_politician', 'manager', 'mathematics_teacher', 'mechanical_engineer', 'musician', 'neurosurgeon', 'notary', 'nurse', 'official', 'opinion_journalist', 'organist', 'painter', 'pedagogue', 'pharmacist', 'physical_education_teacher', 'physician', 'physicist', 'physiotherapist', 'police_officer', 'political_scientist', 'politician', 'presenter', 'primary_school_teacher', 'product_manager', 'programmer', 'project_manager', 'proofreader', 'radio_journalist', 'researcher', 'screenwriter', 'secretary', 'singer', 'singer-songwriter', 'ski_jumper', 'social_worker', 'sociologist', 'software_architect', 'software_developer', 'teacher', 'theatre_manager', 'trade_unionist', 'translator', 'university_teacher', 'veterinarian', 'webmaster', 'wheeltapper', 'wikipedian', 'writer', 'zootechnician', 'architect', 'artist', 'astronomer', 'author', 'banker', 'botanist', 'chemist', 'county_governor', 'docent', 'electrical_engineering', 'ice_hockey_coach', 'judge', 'mathematician', 'minister', 'musicologist', 'numismatist', 'parson', 'playwright', 'poet', 'pohranicní_stráž_cssr', 'psychiatrist', 'scientist', 'soldier', 'theatre_director']\n",
            "\n",
            "\n",
            "Sheet: fra_profession\n",
            "Headers: ['wikidataid', '<U+200E>miscellaneous_persons_without_work_under_60_excluding_retirees', 'academic', 'accountant', 'activist', 'administrator', 'agricultural_engineer', 'anciens_cadres', 'anesthesiologist', 'associate_professor', \"attaché_d'administration_centrale\", 'audiovisual_director', 'banker', 'beekeeper', 'board_member', 'business_executive', 'businessperson', 'cadre', 'cadres_de_la_fonction_publique', 'chartered_accountant', 'chemist', 'chief_executive_officer', 'chief_human_resources_officer', 'child_actor', 'chronicler', 'civil_servant', 'class_a_official', 'class_b_official', 'class_c_official', 'cleaner', 'clinical_psychologist', 'comedian', 'commercial', 'communications_adviser', 'communications_manager', 'computer_scientist', 'consultant', 'corporate_administrative_and_commercial_executive', 'corrector', 'delivery_driver', 'dentist', 'diplomat', 'director_of_communications', 'docent', 'economist', 'editorial_cartoonist', 'emergency_physician', 'employee', 'engineer', 'entrepreneur', 'environmentalist', 'essayist', 'faculty_member', 'farm_operator', 'farmer', 'farmworker', 'film_director', 'film_producer', 'fire_services_in_france', 'firefighter', 'general_practitioner', 'geneticist', \"grands_corps_de_l'etat\", 'handball_player', 'high_school_teacher', 'historian', 'history-geography_teacher', 'hotel_cleaner', 'housekeeper', 'industrialist', \"ingénieurs_et_cadres_techniques_d'entreprise\", 'inspector_of_finances', 'international_forum_participant', 'italian_teacher', 'journalist', 'jurist', 'kinesiotherapist', 'lawyer', 'legislative_assistant', 'lgbtqi+_rights_activist', 'liberal_profession', 'librarian', 'magistrate', 'mathematician', 'medical_representative', 'member_of_the_french_national_assembly', 'middle_management', 'militant', 'military_personnel', 'minister', 'mixed_martial_arts_fighter', 'model', 'municipal_councillor', 'neurologist', 'news_presenter', 'notary', 'nurse', 'official', 'optician', 'osteopath', 'pensioner', 'permanent_politician', 'pharmacist', 'photographer', 'physical_education_teacher', 'physician', 'physicist', 'piano_tuner', 'police_officer', 'political_activist', 'political_adviser', 'political_scientist', 'politician', 'private_sector_employee', 'professeur_agrégé', 'professeur_des_universités', 'professional_boxer', 'professions_libérales_et_assimilés', 'professors,_scientific_professions', 'psychiatrist', 'radio_personality', 'radiologist', 'real_estate_agent', 'researcher', 'school_counselor', 'school_teacher', 'schoolteacher', 'skipper', 'social_worker', 'soldier', 'specialized_educator', 'spokesperson', 'sport_historian', 'student', 'teacher', 'teacher_of_literature', 'technician', 'technicians', 'television_producer', 'top_official', 'trade_unionist', 'university_teacher', 'unknown', 'unlicensed_assistive_personnel', 'video_blogger', 'wheelchair_rugby_player', 'winegrower', \"women's_rights_activist\", 'writer', 'zooarchaeologist', 'actor', 'administrative_officer', 'aerospace_engineer', 'agricultural_exploiter', 'agriculturer', 'aircraft_pilot', 'anthropologist', 'anti.vaccine_activist', 'arachnologist', 'archaeologist', 'architect', 'association_football_player', 'association_football_referee', 'athletics_competitor', 'audioprothesist', 'author', 'basketball_coach', 'biographer', 'bird_breeder', 'botanist', 'boxer', 'bridge_player', 'cardiologist', 'carpenter', 'catholic_priest', 'cattle_rancher', 'cleric', 'composer', 'conductor', 'conspiracy_theorist', 'councillor', 'criminal', 'director', 'director_of_research_at_cnrs', 'documentalist', 'esperantist', 'ethnologist', 'executive', 'explorer', 'fencer', 'figure_skater', 'figure_skating_judge', 'film_actor', 'fitter', 'french_resistance_fighter', 'general_agent_of_insurance', 'grands_corps_de_l.etat', 'gynaecologist', 'horticulturist', 'in.house_lawyer', 'inspection_générale_des_finances', 'intensivist', 'inventor', 'japanologist', 'jazz_musician', 'judge', 'judoka', 'lawyer.s_clerk', 'legal_historian', 'maître_de_conférences', 'media_proprietor', 'member_of_the_departmental_council', 'merchant', 'military_officer', 'miner', 'motorcycle_racer', 'mountaineer', 'musician', 'newspaper_publisher', 'non.fiction_writer', 'oncologist', 'otolaryngologist', 'painter', 'philosopher', 'photojournalist', 'poet', 'priest', 'psychoanalyst', 'psychologist', 'publisher', 'racing_automobile_driver', 'racing_driver', 'research_fellow', 'resistance_fighter', 'rower', 'rugby_union_match_official', 'rugby_union_player', 'school_teacher_.france.', 'screenwriter', 'sculptor', 'shopkeeper', 'singer', 'sociologist', 'sports_educator', 'statesperson', 'steeplechase_runner', 'sub.prefect', 'surgeon', 'syndicalism', 'teacher.researcher', 'tennis_coach', 'tennis_player', 'urban_planner', 'veterinarian', 'virologist', 'zoologist']\n",
            "\n",
            "\n",
            "Sheet: isr_profession\n",
            "Headers: ['wikidataid', 'accountant', 'activist', 'actor', 'administrator', 'advocate', 'aerospace_engineer', 'agronomist', 'aircraft_pilot', 'aliyah_bet_activist', 'ambassador', 'animal_rights_advocate', 'anthropologist', 'archaeologist', 'architect', 'art_collector', 'association_football_player', 'athletics_competitor', 'author', 'banker', 'biochemist', 'biographer', 'business_theorist', 'businessperson', 'carpenter', 'certified_national_public_accountant', 'chemist', 'chess_player', 'chief_executive_officer', \"children's_writer\", 'civil_servant', 'combatant', 'composer', 'computer_scientist', 'consultant', 'dentist', 'deputy_minister', 'diplomat', 'director', 'economist', 'educator', 'engineer', 'entrepreneur', 'essayist', 'faculty_member', 'fighter_pilot', 'film_actor', 'film_director', 'food_critic', 'general_manager', 'geographer', 'geologist', 'gynaecologist', 'handyperson', 'helicopter_pilot', 'historian', 'hotel_manager', 'human_rights_activist', 'industrialist', 'intelligence_officer', 'international_forum_participant', 'jewish_communities_scholar', 'journalist', 'judge', 'judoka', 'jurist', 'knesset_member', 'lawyer', 'lecturer', 'legal_scholar', 'librarian', 'linguist', 'literary_editor', 'literary_theorist', 'management_consultant', 'manager', 'mathematician', 'mayor', 'mechanical_engineer', 'microbiologist', 'military_historian', 'military_officer', 'military_personnel', 'military_physician', 'military_rabbi', 'minister', 'minister_of_health', 'model', 'news_presenter', 'newspaper_editor', 'novelist', 'nuclear_physicist', 'nurse', 'opinion_journalist', 'painter', 'peace_activist', 'pedagogue', 'pediatrician', 'philosopher', 'photographer', 'physician', 'physicist', 'plastic_surgeon', 'playwright', 'poet', 'police_officer', 'political_scientist', 'political_writer', 'politician', 'professor', 'psychologist', 'public_figure', 'publisher', 'rabbi', 'rancher', 'reporter', 'researcher', 'rosh_yeshiva', 'salonnière', 'scientist', 'sculptor', 'social_activist', 'social_worker', 'sociologist', 'software_engineer', 'soldier', 'songwriter', 'spokesperson', 'spy', 'stage_actor', 'statesperson', 'surgeon', 'teacher', 'television_presenter', 'trade_unionist', 'translator', 'university_teacher', 'warrior', \"women's_rights_activist\", 'writer', 'zionist']\n",
            "\n",
            "\n",
            "Sheet: nld_profession\n",
            "Headers: ['wikidataid', 'activist', 'actor', 'advisor', 'agricultural_economist', 'aircraft_pilot', 'amateur_photographer', 'archaeologist', 'architect', 'archivist', 'art_collector', 'art_historian', 'association_football_player', 'astronomer', 'astrophysicist', 'athletics_competitor', 'author', 'autobiographer', 'banker', 'biologist', 'blogger', 'broadcasting_director', 'businessperson', 'carpenter', 'cartographer', 'catholic_priest', 'chemist', 'chess_player', \"children's_writer\", 'christian_minister', 'civil_engineer', 'civil_servant', 'climate_activist', 'colonial_administrator', 'columnist', 'composer', 'consultant', 'creator', 'criminal_defense_lawyer', 'criminologist', 'designer', 'diarist', 'diplomat', 'director', 'drawer', 'dutch_language_specialist', 'economist', 'editor', 'egyptologist', 'engineer', 'entrepreneur', 'esperantist', 'explorer', 'farmer', 'feminist', 'field_hockey_player', 'film_director', 'formula_one_driver', 'free-thought', 'functionary', 'genealogist', 'geographer', 'golfer', 'high_school_teacher', 'historian', 'history_teacher', 'human_rights_activist', 'humanist', 'hymnwriter', 'ice_hockey_player', 'investment_banker', 'investor', 'journalist', 'judge', 'judoka', 'juried_competition', 'jurist', 'landlord', 'large_estate_owner', 'lawyer', 'lgbtqi+_rights_activist', 'librarian', 'linguist', 'literary_critic', 'literary_historian', 'mayor', 'member_of_parliament', 'merchant', 'military_officer', 'military_personnel', 'minister', 'motorcycle_rider', 'naval_officer', 'news_presenter', 'non-fiction_writer', 'novelist', 'nuclear_physicist', 'nurse', 'official', 'opinion_journalist', 'pastor', 'peace_activist', 'pharmacist', 'philosopher', 'photographer', 'physician', 'physicist', 'pianist', 'planter', 'playwright', 'podcaster', 'poet', 'poet_lawyer', 'political_adviser', 'political_scientist', 'preacher', 'presenter', 'priest', 'printmaker', 'privatdozent', 'professor', 'program_maker', 'programmer', 'prosecutor', 'psychiatrist', 'publisher', 'racing_automobile_driver', 'radio_personality', 'registrar_of_the_house_of_representatives', 'religious_studies_scholar', 'resistance_fighter', 'saxophonist', 'scenographer', 'schoolteacher', 'screenwriter', 'shareholder', 'singer', 'social_worker', 'sociologist', 'soldier', 'speed_skater', 'spokesperson', 'stage_actor', 'statesperson', 'statistician', 'submariner', 'swimmer', 'teacher', 'television_director', 'television_executive', 'television_presenter', 'television_producer', 'theologian', 'trade_unionist', 'translator', 'travel_writer', 'university_teacher', 'urban_planner', 'vice_president', \"women's_rights_activist\", 'writer']\n",
            "\n",
            "\n",
            "Sheet: ita_house_profession\n",
            "Headers: ['wikidataid', 'academic', 'accountant_technician', 'activist', 'actor', 'administrator', 'aerospace_engineer', 'agrarian_historian', 'agronomist', 'aircraft_pilot', 'anthropologist', 'archaeologist', 'architect', 'architectural_historian', 'art_collector', 'art_critic', 'art_historian', 'artisan', 'artist', 'assessor', 'assistant_professor', 'associate_professor', 'association_football_manager', 'association_football_player', 'association_football_referee', 'athletics_competitor', 'author', 'banker', 'biologist', 'blogger', 'businessperson', 'catholic_priest', 'chartered_accountant', 'chartered_building_surveyor', 'chemist', 'child_psychiatrist', 'civil_engineer', 'civil_lawyer', 'civil_servant', 'classical_philologist', 'clerk', 'coach', 'collector', 'comics_artist', 'composer', 'computer_scientist', 'conductor', 'conspiracy_theorist', 'constitutionalist', 'contemporary_historian', 'contributing_editor', 'criminal', 'criminologist', 'critic', 'cross-country_skier', 'dancer', 'dentist', 'deputy', 'diplomat', 'disc_jockey', 'dramaturge', 'ecclesiastical_lawyer', 'economist', 'editor', 'editorial_columnist', 'educator', 'electrotechnician', 'engineer', 'entrepreneur', 'essayist', 'farmer', 'fashion_designer', 'fencer', 'film_actor', 'film_critic', 'film_director', 'film_producer', 'financier', 'flutist', 'formula_one_driver', 'full_professor', 'functionary', 'gastroenterologist', 'geographer', 'geologist', 'government_employee', 'harpsichordist', 'head_teacher', 'high_school_teacher', 'hispanist', 'historian', 'historian_of_modern_age', 'human_rights_defender', 'hygienist', 'industrialist', 'international_forum_participant', 'journalist', 'judge', 'judoka', 'jurist', 'laborer', 'latinist', 'lawyer', 'legal_historian', 'linguist', 'literary_critic', 'literary_historian', 'long-distance_runner', 'lyricist', 'magistrate', 'manager', 'mathematician', 'mayor', 'media_proprietor', 'medical_director', 'medievalist', 'member_of_parliament', 'memoirist', 'military_aviator', 'military_officer', 'military_personnel', 'mineralogist', 'minister', 'missionary', 'model', 'mountaineer', 'musician', 'musicologist', 'naturalist', 'neurologist', 'neurosurgeon', 'non-fiction_writer', 'notary', 'novelist', 'nurse', 'oncologist', 'ophthalmologist', 'opinion_journalist', 'painter', 'partisan', 'pedagogue', 'pharmacist', 'pharmacologist', 'philanthropist', 'philosopher', 'philosopher_of_law', 'philosophy_historian', 'photographer', 'physician', 'physicist', 'playwright', 'poet', 'poet_lawyer', 'police_officer', 'political_adviser', 'political_philosopher', 'political_scientist', 'politician', 'pornographic_actor', 'presbyter', 'professor', 'prosaist', 'prosecutor', 'psychiatrist', 'psychoanalyst', 'psychologist', 'psychotherapist', 'pubblicista_journalist', 'publisher', 'racing_automobile_driver', 'radio_personality', 'rancher', 'record_producer', 'recording_artist', 'regional_historian', 'reporter', 'researcher', 'schoolteacher', 'science_fiction_writer', 'scientist', 'screenwriter', 'sculptor', 'ship-owner', 'singer', 'singer-songwriter', 'skipper', 'sociologist', 'soldier', 'songwriter', 'sports_executive', 'sports_physician', 'sprinter', 'spy', 'stage_actor', 'statesperson', 'surgeon', 'swimmer', 'tax_advisor', 'teacher', 'television_presenter', 'textile_worker', 'theatrical_director', 'trade_unionist', 'translator', 'typographer', 'university_teacher', 'unknown', 'urban_planner', 'veterinarian', 'violinist', 'virologist', 'visual_artist', 'voice_actor', 'volleyball_player', 'worker', 'writer']\n",
            "\n",
            "\n",
            "Sheet: usa_house_profession\n",
            "Headers: ['wikidataid', 'academic_administration', 'academic_administrator', 'accountant', 'activist', 'adjunct_professor', 'administrator', 'advocate', 'air_force_officer', 'aircraft_pilot', 'american_football_player', 'analyst', 'anti-vaccine_activist', 'army_officer', 'artist', 'assistant', 'assistant_professor', 'association_football_player', 'auctioneer', 'author', 'aviation_medical_examiner', 'banker', 'bartender', 'baseball_player', 'beach_volleyball_player', 'business_consultant', 'business_executive', 'business_manager', 'businessperson', 'campaign_manager', 'car_dealer', 'cardiac_surgeon', 'cattle_rancher', 'certified_national_public_accountant', 'chairperson', 'chemist', 'chief_executive_officer', 'chief_of_police', 'civil_engineer', 'civil_servant', 'clerk', 'coach', 'community_organizer', 'congressional_staff', 'consultant', 'dean', 'dentist', 'diplomat', 'director', 'dispatcher', 'distiller', 'economist', 'educational_strategist', 'electrician', 'employee', 'employment_counsellor', 'engineer', 'entrepreneur', 'environmentalist', 'executive', 'executive_director', 'expert', 'faculty_member', 'farmer', 'financial_adviser', 'financial_analyst', 'firefighter', 'fleet_management', 'flight_attendant', 'flight_instructor', 'flight_surgeon', 'general_counsel', 'general_manager', 'general_practitioner', 'graduate_assistant', 'gynaecologist', 'head_teacher', 'historian', 'human_rights_activist', 'ice_hockey_player', 'insurance_broker', 'investment_banker', 'journalist', 'judge', 'law_clerk', 'law_enforcement_officer', 'law_professor', 'lawyer', 'lecturer', 'legislative_assistant', 'lobbyist', 'manager', 'marketer', 'marketing_executive', 'member', 'military_officer', 'military_personnel', 'mixed_martial_arts_fighter', 'news_presenter', 'novelist', 'nurse', 'obstetrician', 'official', 'organizational_founder', 'pastor', 'pharmacist', 'philanthropist', 'physician', 'physician_assistant', 'physicist', 'plumber', 'police_officer', 'policy_advisor', 'political_activist', 'political_campaign_staff', 'political_scientist', 'political_staffer', 'politician', 'president', 'priest', 'prison_officer', 'probation_officer', 'professor', 'program_director', 'prosecutor', 'psychologist', 'psychotherapist', 'public_defender', 'publisher', 'pundit', 'radio_personality', 'rancher', 'real_estate_agent', 'real_estate_developer', 'representative', 'restaurateur', 'sales_representative', 'scientist', 'screenwriter', 'ship_captain', 'social_worker', 'software_engineer', 'soldier', 'speechwriter', 'stockbroker', 'surgeon', 'teacher', 'technician', 'television_journalist', 'trade_unionist', 'trustee', 'university_teacher', 'urban_planner', 'urologist', 'veterinarian', 'vice_president', 'volleyball_player', 'waiter', 'worker', 'wrestler', 'wrestling_coach', 'writer', 'academic_advising', 'actor', 'adventurer', 'advisor', 'advisory_group', 'aerospace_engineer', 'agriculturer', 'aide.de.camp', 'american_federation_of_labor', 'american_football_coach', 'analyst.1', 'anglican_priest', 'apprentice', 'architect', 'archivist', 'arizona_department_of_economic_security', 'artisan', 'assessor', 'assistant_district_attorney', 'assistant_manager', 'assistant_united_states_attorney', 'associate_professor', 'association_football_manager', 'astronaut', 'astronomer', 'astrophysicist', 'athletic_director', 'athletics_competitor', 'auditor', 'autobiographer', 'automobile_salesperson', 'bank', 'bank_examiner', 'bank_officer', 'bank_teller', 'banking', 'barber', 'basketball_coach', 'basketball_player', 'beauty_pageant_contestant', 'biographer', 'blogger', 'board_of_directors', 'board_of_finance', 'botanist', 'boxer', 'breeder', 'broadcaster', 'broadcasting_executive', 'broker', 'builder', 'building_contractor', 'building_estimator', 'building_superintendent', 'bureaucrat', 'business_analyst', 'business_magnate', 'campaign_management_tools', 'canadian_football_player', 'car_designer', 'cardiologist', 'carpenter', 'caseworker', 'cashier', 'catholic_priest', 'cattleman', 'celebrity', 'certified_public_accountant', 'chancellor', 'chef', 'chief_judge', 'chief_of_staff', 'choir_director', 'city_attorney', 'city_council', 'civil_engineering', 'cleric', 'clerk.1', 'clinical_psychologist', 'co.director', 'co.founder', 'coal_miner', 'columnist', 'commissioner', 'commonwealth.s_attorney', 'community_manager', 'composer', 'conductor', 'conspiracy_theorist', 'construction', 'construction_worker', 'consultor', 'contractor', 'coroner', 'corporation_counsel', 'correspondent', 'county_attorney', 'court_clerk', 'court_reporter', 'curler', 'dairy_farmer', 'dealer', 'deputy', 'detective', 'director.1', 'disc_jockey', 'distributor', 'district_attorney', 'editor', 'education_management', 'educator', 'entertainer', 'essayist', 'executive_vice_president', 'explorer', 'factory_worker', 'faculty', 'faculty.1', 'fellow', 'feminist', 'fiddler', 'field_of_work', 'fighter_pilot', 'film_actor', 'film_editor', 'film_producer', 'financier', 'fire_chief', 'fitness_professional', 'foreign_currency_trader', 'foreign_service_officer', 'foreman', 'fundraiser', 'funeral_director', 'geologist', 'geophysicist', 'golfer', 'gridiron_football_player', 'harbourmaster', 'health_administrator', 'helicopter_pilot', 'helper', 'high_school_teacher', 'homeopath', 'horticulturist', 'human_resources_management', 'hydrologist', 'ichthyologist', 'impresario', 'independent_insurance_agent', 'industrialist', 'innkeeper', 'instructor', 'insurance', 'intelligence_analyst', 'internship', 'investigator', 'investment_broker', 'investor', 'judoka', 'jurist', 'justice_of_the_peace', 'laborer', 'landscape_architect', 'lawyer.1', 'legal_aid', 'legal_services', 'legislator', 'liaison_officer', 'librarian', 'linguist', 'literary_scholar', 'long_island_university', 'lumberjack', 'magician', 'mail_carrier', 'major_general', 'malacologist', 'managing_editor', 'manual_labour', 'mathematician', 'mechanic', 'mediator', 'medical_examiner', 'member_of_congress', 'merchant', 'metallurgist', 'microbiologist', 'middle.distance_runner', 'military_advisor', 'military_intelligence_division', 'military_service', 'miner', 'mining_engineer', 'minister', 'minister.1', 'missionary', 'moldmaker', 'motivational_speaker', 'municipal_clerk', 'musical_instrument_maker', 'musician', 'naturalist', 'navy_officer', 'newspaper_editor', 'newspaper_proprietor', 'non.fiction_writer', 'nurse_educator', 'nutritionist', 'office_manager', 'oncologist', 'operator', 'ophthalmologist', 'optometrist', 'organist', 'organizer', 'ornithologist', 'overseer', 'pacifist', 'page_of_the_united_states_senate', 'paleontologist', 'paper', 'paralegal', 'parliamentarian', 'parliamentarian_of_the_united_states_house_of_representatives', 'partner', 'patron', 'peace_activist', 'peace_corps', 'percussionist', 'personal_assistant', 'philosopher', 'photographer', 'playwright', 'poet', 'pointage', 'police_officer.1', 'political_writer', 'polo_player', 'pomologist', 'postal_worker', 'postgraduate_work', 'postmaster', 'president.1', 'princeton_plasma_physics_laboratory', 'printer', 'printer.1', 'prison_warden', 'professional_athlete', 'professional_baseball_player', 'property_developer', 'proprietor', 'psychiatric_social_worker', 'psychiatrist', 'public_relations', 'publisher.1', 'radio_broadcasting', 'radio_journalist', 'railway', 'railway_worker', 'real_estate_broker', 'real_estate_entrepreneur', 'real_property', 'record_producer', 'referee_in_bankruptcy', 'regent', 'registered_nurse', 'reporter', 'research_assistant', 'researcher', 'residency', 'retail_manager', 'retailer', 'revolutionary', 'roman_catholic_deacon', 'sales', 'sales_management', 'salesperson', 'school_counselor', 'science_fiction_writer', 'sea_captain', 'secretary', 'sheriff', 'singer', 'singer.songwriter', 'slaveholder', 'social_activist', 'socialite', 'sociologist', 'software_developer', 'solicitor', 'songwriter', 'special_agent', 'sportswriter', 'sprinter', 'stage_actor', 'state.s_attorney', 'state_senator', 'state_superintendent_of_public_instruction', 'statesperson', 'statistician', 'steelmaking', 'strategist', 'submariner', 'suffragettes', 'superintendent', 'superintendent.1', 'superintendent.2', 'supervisor', 'supreme_court', 'swimmer', 'systems_engineer', 'taekwondo_athlete', 'tailor', 'tax_advisor', 'teacher.1', 'teaching', 'television_actor', 'television_presenter', 'television_producer', 'tennis_player', 'timekeeper', 'town_supervisor', 'train_crew', 'translator', 'treasurer', 'united_states_attorney', 'united_states_department_of_justice', 'vice_chairperson', 'violinist', 'volunteer', 'warehouseman', 'westinghouse_electric', 'wholesale', 'wholesale_merchant', 'winegrower', 'zoologist']\n",
            "\n",
            "\n",
            "Sheet: gbr_profession\n",
            "Headers: ['wikidataid', 'academic', 'academic_lecturer', 'accountant', 'actor', 'advocate', 'aeronautical_engineer', 'aerospace_engineer', 'agriculturer', 'agriculturist', 'agronomist', 'aircraft_pilot', 'alderman', 'anatomist', 'anglican_priest', 'animal_rights_advocate', 'anthropologist', 'antiquarian', 'archaeologist', 'archer', 'architect', 'art_collector', 'art_dealer', 'art_historian', 'association_football_player', 'association_football_referee', 'assyriologist', 'astronomer', 'athlete', 'athletics_competitor', 'author', 'autobiographer', 'bacteriologist', 'banker', 'barrister', 'bibliographer', 'biographer', 'biologist', 'biophysicist', 'blacksmith', 'blogger', 'botanical_illustrator', 'botanist', 'bowls_player', 'boxer', 'bryologist', 'bullfighting_critic', 'business_executive', 'business_magnate', 'businessperson', 'byzantinist', 'car_designer', 'cardiologist', 'carpenter', 'cartographer', 'cartoonist', 'catholic_priest', 'chairperson', 'chartered_surveyor', 'chef', 'chemist', 'chess_player', \"children's_writer\", 'children.s_writer', 'circus_performer', 'civil_engineer', 'civil_servant', 'classical_philologist', 'classical_scholar', 'cleric', 'clerk', 'clinical_psychologist', 'cloth_merchant', 'coal_miner', 'collector', 'collector_of_fairy_tales', 'colonial_administrator', 'columnist', 'comics_artist', 'composer', 'computer_scientist', 'conductor', 'coxswain', 'cricketer', 'croquet_player', 'cultural_historian', 'dentist', 'deputy_lieutenant', 'designer', 'diarist', 'diplomat', 'director_general', 'disc_jockey', 'dramaturge', 'dramaturgy', 'draper', 'drummer', 'economist', 'editor', 'egyptologist', 'electrical_engineer', 'electrician', 'engineer', 'entomologist', 'entrepreneur', 'esperantist', 'explorer', 'farmer', 'feminist', 'fencer', 'film_actor', 'film_critic', 'film_director', 'film_producer', 'financial_analyst', 'financier', 'functionary', 'fund_manager', 'gaelic_football_player', 'genealogist', 'geneticist', 'geographer', 'geologist', 'geopolitician', 'glassmaker', 'golfer', 'governor', 'grocer', 'head_coach', 'high_sheriffs_of_carmarthenshire_in_the_20th_century', 'historian', 'historian_of_mathematics', 'historian_of_the_modern_age', 'horse_trainer', 'horticulturist', 'human_rights_activist', 'hymnwriter', 'ice_hockey_player', 'ichthyologist', 'illustrator', 'industrialist', 'insurance_broker', 'inventor', 'investment_banker', 'ironmaster', 'jazz_musician', 'jockey', 'journalist', 'judge', 'judoka', 'jurist', 'jurist-consultant', 'justice_of_the_peace', 'keeper_of_mineralogy,_natural_history_museum', 'landed_gentry', 'landowner', 'landscape_architect', 'lawyer', 'lecturer', 'legal_historian', 'lepidopterist', 'librarian', 'librettist', 'life_peer', 'linguist', 'literary_critic', 'literary_historian', 'long.distance_runner', 'magician', 'magistrate', 'malacologist', 'mathematician', 'media_proprietor', 'member_of_parliament', 'member_of_parliament.1', 'merchant', 'metallurgist', 'meteorologist', 'middle.distance_runner', 'military_historian', 'military_leader', 'military_officer', 'military_personnel', 'military_physician', 'miner', 'mining_engineer', 'minister', 'minister_of_the_navy', 'missionary', 'mountaineer', 'music_critic', 'musicologist', 'mycologist', 'naturalist', 'navy_officer', 'neurosurgeon', 'newspaper_editor', 'newspaper_proprietor', 'non-fiction_writer', 'non.fiction_writer', 'novelist', 'numismatist', 'nurse', 'ocean_rower', 'official', 'opera_singer', 'ophthalmologist', 'ornithologist', 'painter', 'paleontologist', 'paramedic', 'patent_inventor', 'pathologist', 'peace_activist', 'pedagogue', 'pediatrician', 'pharmacist', 'pharmacologist', 'philanthropist', 'philatelist', 'philologist', 'philosopher', 'photographer', 'physician', 'physicist', 'physiologist', 'plantation_owner', 'playwright', 'poet', 'poet_lawyer', 'police_officer', 'political_scientist', 'political_writer', 'politician', 'polo_player', 'prehistorian', 'preservationist', 'president', 'professional_wrestler', 'professor', 'property_developer', 'psychiatrist', 'psychologist', 'pteridologist', 'publisher', \"queen's_counsel\", 'queen.s_counsel', 'rabbi', 'racing_automobile_driver', 'radio_personality', 'railway_worker', 'real_tennis_player', 'rower', 'rugby_league_player', 'rugby_union_player', 'sailor', 'salesperson', 'science_fiction_writer', 'scientist', 'screenwriter', 'sculptor', 'secretary', 'serjeant-at-law', 'ship_captain', 'shipbroker', 'shipbuilder', 'shipowner', 'singer', 'singer-songwriter', 'social_worker', 'socialite', 'sociologist', 'soldier', 'solicitor', 'songwriter', 'sport_shooter', 'sprinter', 'stage_actor', 'statesperson', 'station_master', 'statistician', 'steward.s_assistant', 'stockbroker', 'submariner', 'suffragette', 'suffragettes', 'suffragist', 'surgeon', 'teacher', 'teaching_fellow', 'television_presenter', 'television_producer', 'tennis_player', 'teuthologist', 'trade_unionist', 'translator', 'travel_writer', 'traveller', 'ufologist', 'union_organizer', 'university_teacher', 'urban_planner', 'virtuoso', 'volcanologist', 'war_correspondent', 'weaver', 'writer', 'zoologist', 'biochemist', 'councillor', 'ecologist', 'essayist', 'guitarist', 'lgbt_rights_activist', 'musician', 'physiotherapist', 'political_journalist', 'presenter', 'reporter', 'singer.songwriter', 'sole_proprietorship', 'television_actor']\n",
            "\n",
            "\n",
            "Sheet: jpn_profession\n",
            "Headers: ['wikidataid', 'abbot', 'academic', 'accountant', 'accounting_academic', 'activist', 'actor', 'administrative_scrivener', 'agriculture', 'agronomist', 'aircraft_pilot', 'amateur_wrestler', 'announcer', 'anthropologist', 'architect', 'art_collector', 'art_critic', 'art_dealer', 'athletics_competitor', 'author', 'badminton_executive_and_administrator', 'bakushin', 'ballet_dancer', 'banker', 'baseball_coach', 'baseball_commentator', 'baseball_player', 'benrishi', 'bhikkhu', 'biologist', 'boxer', 'brewer', 'brewing', 'budoka', 'bureaucrat', 'bus_driver', 'bushi', 'business_executive', 'businessperson', 'calligrapher', 'cashier', 'ceramicist', 'certified_national_public_accountant', 'certified_social_worker', 'chemist', 'civil_engineer', 'civil_servant', 'civil_service', 'comedian', 'composer', 'computer_scientist', 'confucian_scholar', 'consultant', 'contributing_editor', 'critic', 'dentist', 'dermatologist', 'diplomat', 'economic_pundit', 'economist', 'editor', 'educational_personnel', 'educator', 'engineer', 'engineering_technologist', 'entrepreneur', 'environmentalist', 'esperantist', 'explorer', 'farmer', 'film_actor', 'film_director', 'film_producer', 'fisher', 'flight_attendant', 'folklorist', 'foreign_currency_trader', 'formula_one_driver', 'gangster', 'geographer', 'gishi', 'government_official', 'haiku_poet', 'herbalist', 'historian', 'human_rights_defender', 'ice_hockey_player', 'international_forum_participant', 'internist', 'interpreter', 'investor', 'japanese_swordsmith', 'journalist', 'judge', 'judicial_scrivener', 'judoka', 'jurist', 'kamikaze', 'kangaku', 'kannushi', 'kanshi', 'karateka', 'keirin_cyclist', 'kodanshi', 'land_owner', 'landlord', 'lawyer', 'lecturer', 'legal_counsel', 'legal_scholar', 'legislator', 'linguist', 'literary_critic', 'lyricist', 'mangaka', 'martial_artist', 'mathematician', 'mayor', 'medical_researcher', 'member_of_congress', 'member_of_the_house_of_representatives_of_japan', 'metallurgist', 'microbiologist', 'midwife', 'military_officer', 'military_personnel', 'mine_entrepreneur', 'mining_engineer', 'minister', 'missionary', 'naturalist', 'newspaper_editor', 'nihon-buyo_dancer', 'nihonga_painter', 'novelist', 'nurse', 'occupational_therapist', 'office_lady', 'official', 'pastor', 'pathologist', 'pediatrician', 'pharmacist', 'philosopher', 'photographer', 'physician', 'physiotherapist', 'playwright', 'poet', 'police_officer', 'political_activist', 'political_pundit', 'political_scientist', 'politician', 'potter', 'private_secretary', 'professional_shogi_player', 'professional_wrestler', 'professor', 'prosecutor', 'psychiatrist', 'public_administration_scholar', 'publisher', 'pundit', 'racing_automobile_driver', 'reporter', 'representative_director', 'researcher', 'rikishi', 'rugby_union_coach', 'rugby_union_player', 'salaryman', 'scientist', 'screenwriter', 'secretary', 'sericulturist', 'singer', 'singer-songwriter', 'social_activist', 'social_educator', 'social_worker', 'sociologist', 'songwriter', 'speed_skater', 'spy', 'statesperson', 'surgeon', 'swordfighter', 'taekwondo_athlete', 'tanka_poet', 'tarento', 'tax_advisor', 'tea_master', 'teacher', 'technician', 'television_actor', 'television_presenter', 'theologian', 'theoretical_physicist', 'thinker', 'trade_unionist', 'translator', 'university_teacher', 'unknown', 'veterinarian', 'vice-governor', 'water_polo_player', 'weather_presenter', \"women's_rights_activist\", 'writer']\n",
            "\n",
            "\n",
            "Sheet: tur_profession\n",
            "Headers: ['wikidataid', \"'alim\", 'academic', 'activist', 'actor', 'agriculture_minister', 'agronomist', 'amateur_wrestler', 'anthropologist', 'archaeologist', 'architect', 'art_director', 'art_historian', 'associate_professor', 'association_football_manager', 'association_football_player', 'association_football_referee', 'astronomer', 'athletics_competitor', 'author', 'bacteriologist', 'banker', 'basketball_player', 'boxer', 'bureaucrat', 'businessperson', 'cartoonist', 'civil_engineer', 'civil_servant', 'columnist', 'composer', 'cook', 'deputy', 'designer', 'diplomat', 'economist', 'editor-in-chief', 'educator', 'engineer', 'entrepreneur', 'fencer', 'film_actor', 'film_director', 'film_producer', 'gynaecologist', 'hattat', 'historian', 'historian_of_science', 'human_rights_activist', 'international_forum_participant', 'islamic_theology', 'islamicist', 'journalist', 'judge', 'jurist', 'lawyer', 'leader', 'lecturer', 'librettist', 'linguist', 'literary_historian', 'long-distance_runner', 'marine_engineer', 'mathematician', 'mayor', 'member_of_parliament', 'member_of_the_grand_national_assembly_of_turkey', 'merchant', 'military_leader', 'military_officer', 'military_personnel', 'military_physician', 'mining_engineer', 'minister', 'motorcycle_racer', 'musician', 'naval_officer', 'neurologist', 'novelist', 'nurse', 'official', 'ophthalmologist', 'opinion_journalist', 'otolaryngologist', 'painter', 'pedagogue', 'pharmacist', 'philosopher', 'photographer', 'physician', 'physicist', 'playwright', 'poet', 'poet_lawyer', 'political_activist', 'political_scientist', 'politician', 'prehistorian', 'president', 'professor', 'prosaist', 'psychiatrist', 'pulmonologist', 'radiologist', 'researcher', 'revolutionary', 'schoolteacher', 'screenwriter', 'singer', 'sociologist', 'software_engineer', 'soldier', 'sport_cyclist', 'sports_official', 'statesperson', 'surgeon', 'teacher', 'television_actor', 'theologian', 'trade_unionist', 'translator', 'turkologist', 'university_teacher', 'veterinarian', 'volleyball_player', 'writer']\n",
            "\n",
            "\n",
            "Sheet: can_profession\n",
            "Headers: ['wikidataid', 'accountant', 'activist', 'actor', 'aircraft_pilot', 'astronaut', 'athletics_competitor', 'banker', 'blogger', 'boxer', 'broadcaster', 'business_executive', 'businessperson', 'canoeist', 'cardiologist', 'columnist', 'consultant', 'council_member', 'criminologist', 'deputy', 'economist', 'editor', 'educator', 'engineer', 'environmentalist', 'farmer', 'film_actor', 'financial_planner', 'full_professor', 'geographer', 'historian', 'ice_hockey_coach', 'ice_hockey_player', 'journalist', 'jurist', 'kayaker', 'law_professor', 'lawyer', 'maintenance', 'mayor', 'minister', 'musician', 'naturalist', 'navigator', 'non-fiction_writer', 'notary', 'nurse', 'opinion_journalist', 'pharmacist', 'philosopher', 'physician', 'police_officer', 'political_scientist', 'politician', 'real_estate_agent', 'researcher', 'sales_representative', 'singer', 'social_worker', 'soldier', 'songwriter', 'spokesperson', 'sport_cyclist', 'swimmer', 'teacher', 'television_journalist', 'trade_unionist', 'university_teacher', 'urban_planner', 'writer', 'academic', 'academic_lecturer', 'actuary', 'agriculturer', 'agronomist', 'announcer', 'anthropologist', 'architect', 'audio_engineer', 'author', 'autobiographer', 'barrister', 'baseball_player', 'biographer', 'broker.dealer', 'business_magnate', 'business_manager', 'canadian_football_player', 'carpenter', 'catholic_priest', 'chartered_accountant', 'chemist', 'chess_player', 'chiropractor', 'civil_engineer', 'cleric', 'construction_foreman', 'contractor', 'cricketer', 'curler', 'dentist', 'diarist', 'diplomat', 'director', 'editor.in.chief', 'electrician', 'entrepreneur', 'feminist', 'figure_skater', 'film_producer', 'financier', 'geologist', 'geophysicist', 'golfer', 'human_rights_activist', 'industrialist', 'insurance_broker', 'judge', 'justice_of_the_peace', 'lacrosse_player', 'landscape_architect', 'maintenance._repair_and_overhaul', 'marine_biologist', 'member_of_parliament', 'memoirist', 'merchant', 'military_officer', 'military_personnel', 'mining_engineer', 'minister.1', 'non.fiction_writer', 'novelist', 'painter', 'peace_activist', 'pedagogue', 'photographer', 'physicist', 'pianist', 'playwright', 'poet', 'priest', 'professor', 'psychiatrist', 'publisher', 'radio_personality', 'railway_worker', 'restaurateur', 'rower', 'rugby_union_player', 'school_teacher', 'screenwriter', 'seaman', 'singer.songwriter', 'sociologist', 'station_master', 'stockbroker', 'surgeon', 'teach', 'television_presenter', 'tennis_player', 'translator', 'ufologist', 'veterinarian']\n",
            "\n",
            "\n",
            "Sheet: aut_profession\n",
            "Headers: ['wikidataid', 'actor', 'agriculturer', 'alpine_skier', 'archivist', 'athletics_competitor', 'author', 'banker', 'basketball_player', 'beauty_pageant_contestant', 'biochemist', 'bookbinder', 'business_consultant', 'business_manager', 'businessperson', 'catholic_priest', 'chemist', 'classical_philologist', 'customs_officer', 'dental_technician', 'dermatologist', 'diplomat', 'docent', 'economist', 'editor.in.chief', 'educator', 'electrician', 'embroiderer', 'engineer', 'entrepreneur', 'esperantist', 'expert_witness', 'feminist', 'figure_skater', 'film_actor', 'firefighter', 'head_teacher', 'historian', 'human_rights_activist', 'industrialist', 'internist', 'interpreter', 'journalist', 'judge', 'jurist', 'lawyer', 'legal_historian', 'librarian', 'locksmith', 'manager', 'mathematician', 'mayor', 'merchant', 'minister', 'model', 'molecular_biologist', 'music_teacher', 'neurologist', 'neurosurgeon', 'news_presenter', 'non.fiction_writer', 'nurse', 'office_administrator', 'oncologist', 'opinion_journalist', 'partisan', 'pedagogue', 'pediatrician', 'pharmacist', 'philosopher', 'physician', 'pole_vaulter', 'police_officer', 'politician', 'prior', 'professor', 'psychoanalyst', 'psychologist', 'psychotherapist', 'radio_personality', 'rector', 'research_fellow', 'restaurateur', 'secretary', 'spokesperson', 'stage_actor', 'state.certified_engineers_specializing_in_building_construction', 'statesperson', 'statistician', 'swimmer', 'systems_engineer', 'tax_advisor', 'teacher', 'television_presenter', 'theologian', 'tool_and_die_maker', 'trade_unionist', 'translator', 'university_teacher', 'venereologist', 'veterinarian', 'watchmaker', 'winegrower', 'writer', 'association_football_referee', 'building_manager', 'chairman_of_the_social_democratic_party', 'civil_servant', 'columnist', 'dental_assistant', 'environmentalist', 'farmer', 'general_manager', 'general_secretary', 'germanist', 'hotel_manager', 'information_systems_technician', 'jurist.consultant', 'lector', 'musician', 'notary', 'plumber', 'police_officer_.beamter.', 'political_scientist', 'postgraduate_business_degree_holder', 'social_scientist', 'social_worker', 'soldier', 'tailor', 'tour_guide']\n",
            "\n",
            "\n",
            "Sheet: esp_profession\n",
            "Headers: ['wikidataid', 'academic', 'accountant', 'activist', 'actor', 'actuary', 'advisor', 'africanist', 'agricultural_engineer', 'anthropologist', 'appraiser', 'approved_social_worker', 'architect', 'art_historian', 'artist', 'association_football_manager', 'association_football_player', 'astronaut', 'athlete', 'banker', 'basketball_coach', 'basketball_official', 'bertsolari', 'biochemist', 'biographer', 'biologist', 'bookseller', 'bullfighter', 'business_consultant', 'business_manager', 'businessperson', 'cardiologist', 'caricaturist', 'carpenter', 'catholic_priest', 'catholic_propagandist', 'chemical_engineer', 'chemist', 'chess_player', 'chess_teacher', 'chief_executive_officer', 'children.s_writer', 'civil_engineer', 'civil_rights_advocate', 'civil_servant', 'civil_servant_in_spain', 'clerk', 'co.driver', 'columnist', 'commercial_agent', 'commercial_director', 'computer_scientist', 'consultant', 'cuerpo_de_abogados_del_estado', 'cultural_activist', 'cultural_manager', 'day_labor', 'dental_assistant', 'dentist', 'deputy', 'diplomat', 'drafter', 'dub_actor', 'economist', 'editor', 'educator', 'electrician', 'empresario', 'endocrinologist', 'engineer', 'engineer_of_roads_and_bridges', 'engineering_technician', 'entrepreneur', 'environmentalist', 'esperantist', 'essayist', 'executive', 'farmer', 'feminist', 'film_actor', 'financial_adviser', 'forestry_engineer', 'full_professor', 'general_officer', 'general_secretary', 'geographer', 'geologist', 'gynaecologist', 'hairdresser', 'handball_player', 'high_school_teacher', 'highway_engineer', 'historian', 'human_rights_activist', 'humanist', 'humorist', 'hunter', 'industrial_designer', 'industrialist', 'jeweller', 'journalist', 'judge', 'judoka', 'jurist', 'justice_of_the_peace', 'labour_inspector', 'labour_law_specialist', 'land_registrar', 'language_teacher', 'lawyer', 'lawyer_._court_specialist', 'lgbt_rights_activist', 'linguist', 'literary_critic', 'magistrate', 'manual_worker', 'mathematician', 'merchant', 'metallurgist', 'microbiologist', 'military_personnel', 'miner', 'minister', 'mountaineer', 'musician', 'musicologist', 'neurologist', 'notary', 'nurse', 'official', 'painter', 'pastor', 'patrono', 'pedagogue', 'pharmacist', 'philologist', 'philosopher', 'philosophy_historian', 'physician', 'physicist', 'poet', 'political_activist', 'political_adviser', 'political_candidate', 'political_commissar', 'political_pundit', 'political_scientist', 'political_theorist', 'politician', 'presenter', 'professor', 'proprietor', 'prosecutor', 'psychiatrist', 'psychologist', 'psychopedagogue', 'publisher', 'radio_personality', 'rancher', 'real_estate_development', 'researcher', 'salesperson', 'school_teacher', 'scientist', 'screenwriter', 'senior_lecturer', 'sexologist', 'singer.songwriter', 'social_activist', 'social_worker', 'socialite', 'sociologist', 'speleologist', 'sports_administrator', 'sports_journalist', 'sports_official', 'stage_actor', 'state_lawyer', 'statesperson', 'stockbroker', 'surgeon', 'tax_advisor', 'tax_inspector', 'teacher', 'telecommunications_engineer', 'television_presenter', 'tertuliana', 'topographer', 'trade_unionist', 'translator', 'traumatologist', 'university_teacher', 'veterinarian', 'water_polo_player', 'welder', 'winegrower', 'worker', 'writer']\n",
            "\n",
            "\n",
            "Sheet: usa_senate_profession\n",
            "Headers: ['wikidataid', 'academic_administrator', 'accountant', 'adjunct_professor', 'advisor', 'air_force_officer', 'aircraft_pilot', 'american_football_player', 'army_officer', 'assistant', 'associate_professor', 'astronaut', 'auditor', 'autobiographer', 'bank_officer', 'banker', 'basketball_player', 'business_consultant', 'business_executive', 'businessperson', 'carpenter', 'celebrity', 'chief_executive_officer', 'city_attorney', 'co-producer', 'congressional_staff', 'consultant', 'counsel', 'county_attorney', 'diplomat', 'director', 'economist', 'editor-in-chief', 'engineer', 'entrepreneur', 'executive_director', 'farmer', 'film_producer', 'foreign_currency_trader', 'geologist', 'head_coach', 'helicopter_pilot', 'instructor', 'international_forum_participant', 'investigative_journalist', 'journalist', 'judge', 'jurist', 'law_clerk', 'lawyer', 'legislative_assistant', 'legislator', 'lobbyist', 'management_consultant', 'marketing_executive', 'mediator', 'military_officer', 'military_personnel', 'missionary', 'mormon_missionary', 'newspaper_proprietor', 'non-fiction_writer', 'obstetrician', 'ophthalmologist', 'optometrist', 'orthopedic_surgeon', 'pastor', 'physician', 'policy_analysis', 'politician', 'president', 'professor', 'prosecutor', 'public_defender', 'public_relations_executive', 'rancher', 'real_estate_agent', 'researcher', 'restaurateur', 'school_counselor', 'school_superintendent', 'senator', 'social_worker', 'software_developer', \"state's_attorney\", 'teacher', 'television_presenter', 'television_producer', 'test_pilot', 'trustee', 'university_teacher', 'venture_capitalist', 'vice_president', 'volunteer', 'writer', 'academic_administration', 'activist', 'actor', 'administrator', 'advocate', 'agriculturer', 'anthropologist', 'archaeologist', 'assessor', 'athletics_competitor', 'auctioneer', 'author', 'bank_examiner', 'bank_teller', 'barrister', 'baseball_player', 'basketball_coach', 'board_of_directors', 'board_of_supervisors', 'botanist', 'boxer', 'branch_manager', 'broadcaster', 'broadcasting_board_of_governors', 'builder', 'bureaucrat', 'campaign_manager', 'cattle_rancher', 'cattleman', 'chairperson', 'chancellor', 'chemist', 'civil_engineer', 'cleric', 'clerk', 'co.director', 'co.producer', 'columnist', 'comedian', 'commissioner', 'community_organizer', 'dean', 'dentist', 'deputy', 'diarist', 'district_attorney', 'editor', 'editor.in.chief', 'educator', 'environmentalist', 'executive', 'executive_vice_president', 'explorer', 'faculty', 'fiddler', 'fighter_pilot', 'film_actor', 'film_editor', 'financier', 'florist', 'full_professor', 'general_manager', 'head_teacher', 'helper', 'high_school_teacher', 'historian', 'hymnwriter', 'ice_hockey_player', 'ichthyologist', 'illinois_attorney_general', 'illinois_comptroller', 'industrialist', 'insurance', 'insurance_broker', 'inventor', 'investment_banker', 'investment_broker', 'investor', 'judoka', 'laborer', 'lecturer', 'lieutenant_colonel', 'linguist', 'major_general', 'management_consulting', 'manager', 'massachusetts_attorney_general', 'member', 'merchandising', 'merchant', 'military_intelligence_division', 'miner', 'model', 'municipal_clerk', 'musical_instrument_maker', 'musician', 'national_defense_mediation_board', 'national_war_labor_board', 'naturalist', 'navy_officer', 'news_presenter', 'newspaper_editor', 'non.fiction_writer', 'novelist', 'organizational_founder', 'organizer', 'partner', 'peace_activist', 'pharmacist', 'photographer', 'physicist', 'plantation_owner', 'podcaster', 'political_scientist', 'political_writer', 'priest', 'professional_baseball_player', 'proprietor', 'prosecutor.1', 'psychologist', 'public_administration', 'public_relations', 'publisher', 'radio_operator', 'radio_personality', 'real_estate_broker', 'real_estate_developer', 'reporter', 'revolutionary', 'sales', 'salesman', 'salesperson', 'scientist', 'screenwriter', 'secretary', 'senior_advisor', 'settler', 'singer', 'slaveholder', 'sociologist', 'solicitor', 'stage_actor', 'state.s_attorney', 'statesperson', 'stockbroker', 'submariner', 'suffragettes', 'superintendent', 'surgeon', 'talk_show_host', 'telegraphist', 'television_actor', 'town_supervisor', 'trade_unionist', 'train_dispatcher', 'united_states_attorney', 'united_states_senator', 'united_states_shipping_board_merchant_fleet_corporation', 'usher', 'veterinarian', 'visiting_professor', 'voice_actor']\n",
            "\n",
            "\n",
            "Sheet: bra_profession\n",
            "Headers: ['wikidataid', 'academic', 'accountant', 'activist', 'actor', 'administrator', 'agricultural_engineer', 'agronomist', 'aircraft_pilot', 'announcer', 'anthropologist', 'architect', 'association_football_manager', 'association_football_player', 'association_football_referee', 'astrophysicist', 'athlete', 'author', 'bank_teller', 'banker', 'basketball_player', 'biochemist', 'biologist', 'botanist', 'brazilian_federal_deputy', 'brazilian_state_deputy', 'business', 'businessperson', 'category:first_ladies_of_espírito_santo', 'catholic_priest', \"children's_writer\", 'cinematographer', 'circus_performer', 'civil_engineer', 'civil_servant', 'comedian', 'composer', 'cooperative', 'council_member', 'dentist', 'deputy', 'deputy_mayor', 'diplomat', 'dramaturge', 'ecologist', 'economist', 'educator', 'electrical_engineer', 'engineer', 'english_teacher', 'entrepreneur', 'environmentalist', 'esperantist', 'essayist', 'estate_agent', 'faculty_member', 'farmer', 'federal_deputy_of_paraná', 'film_actor', 'film_director', 'film_editor', 'film_producer', 'firefighter', 'fisher', 'folklorist', 'futsal_coach', 'geographer', 'geologist', 'guitarist', 'gynaecologist', 'high_school_teacher', 'historian', 'human_rights_defender', 'industrialist', 'influencer', 'insurance_broker', 'international_forum_participant', 'internet_activist', 'jazz_guitarist', 'journalist', 'judge', 'judoka', 'jurist', 'kommerkiarios', 'large_estate_owner', 'lawyer', 'lgbtqi+_rights_activist', 'librarian', 'linguist', 'magistrate', 'manager', 'mathematician', 'mayor', 'mechanical_engineer', 'member_of_parliament', 'merchant', 'militant', 'military_officer', 'military_personnel', 'minister', 'model', 'musician', 'ña_catita', 'non-fiction_writer', 'novelist', 'nurse', 'nutritionist', 'official', 'ophthalmologist', 'opinion_journalist', 'organ_builder', 'orthopedic_surgeon', 'painter', 'paraná_senator', 'parson', 'partisan', 'pastor', 'pedagogue', 'petroleum_engineer', 'pharmacist', 'philosopher', 'physician', 'physicist', 'physiotherapist', 'playwright', 'poet', 'police_officer', 'political_activist', 'political_pundit', 'political_scientist', 'politician', 'pornographic_actor', 'priest', 'professor', 'psychologist', 'publisher', 'pundit', 'radio_personality', 'rancher', 'real_estate_agent', 'religious_servant', 'reporter', 'researcher', 'retired', 'rower', 'rural_settlement', 'schoolteacher', 'science_fiction_writer', 'scientist', 'screenwriter', 'senator', 'singer', 'singer-songwriter', 'social_scientist', 'sociologist', 'soldier', 'songwriter', 'sports_executive', 'statesperson', 'student', 'surgeon', 'swimmer', 'teacher', 'technician', 'television_actor', 'television_presenter', 'television_producer', 'trade_unionist', 'translator', 'turner', 'university_teacher', 'unknown', 'veterinarian', 'volleyball_player', 'wikimedian', 'writer', 'youtuber']\n",
            "\n",
            "\n",
            "Sheet: irl_profession\n",
            "Headers: ['wikidataid', 'academic', 'agriculturer', 'architect', 'arms_trafficker', 'association_football_manager', 'association_football_player', 'auctioneer', 'author', 'baker', 'barrister', 'biographer', 'broker.dealer', 'businessperson', 'carpenter', 'caviste', 'chartered_accountant', 'chemist', 'civil_servant', 'columnist', 'contributing_editor', 'coroner', 'cricketer', 'diplomat', 'economist', 'engineer', 'entrepreneur', 'funeral_director', 'gaelic_football_player', 'grocer', 'high_school_teacher', 'historian', 'historian_of_the_modern_age', 'hurler', 'journalist', 'judge', 'lawyer', 'linguist', 'mathematician', 'military_officer', 'military_personnel', 'military_physician', 'minister', 'novelist', 'peace_activist', 'physician', 'poet', 'pointage', 'political_scientist', 'politician', 'printer', 'psychiatrist', 'publican', 'remedial_teacher', 'rugby_union_player', 'school_teacher', 'senior_counsel', 'singer', 'solicitor', 'songwriter', 'stevedore', 'stockbroker', 'suffragettes', 'surgeon', 'teacher', 'trade_unionist', 'translator', 'university_teacher', 'veterinarian', 'writer', 'activist', 'farmer', 'scientist']\n",
            "\n",
            "\n",
            "Sheet: deu_profession\n",
            "Headers: ['wikidataid', 'aircraft_pilot', 'architect', 'articled_clerk', 'artisan', 'artistic_gymnast', 'association_football_referee', 'author', 'baker', 'bank_teller', 'biathlete', 'biathlon_coach', 'bookseller', 'botanist', 'business_consultant', 'business_informatician', 'business_manager', 'businessperson', 'cardiac_surgeon', 'career_soldier', 'cellist', 'chairperson', 'chemical_laboratory_technician', 'chemist', 'choir_director', 'classical_philologist', 'communication_scholar', 'competitive_diver', 'composer', 'computer_scientist', 'consultant', 'contributing_editor', 'dentist', 'detective_officer', 'diploma_of_business_administration', 'diplomat', 'economist', 'editor-in-chief', 'educator', 'engineer', 'entrepreneur', 'environmentalist', 'epidemiologist', 'equestrian', 'executive_director', 'farmer', 'foreign_minister', 'generalstabsoffizier', 'geographer', 'gerichtsassessor', 'glazier', 'health_economist', 'hematologist', 'historian', 'industrial_management_assistant', 'internist', 'journalist', 'judge', 'jurist', 'justiciar', 'lawyer', 'literary_editor', 'literary_scholar', 'lobbyist', 'local_politician', 'manager', 'maritime_search_and_rescue', 'mathematician', 'mechanical_technician', 'member_of_the_german_bundestag', 'merchant', 'military_officer', 'military_personnel', 'minister', 'non-fiction_writer', 'nurse', 'office_manager', 'opinion_journalist', 'organist', 'peace_and_conflict_researcher', 'pedagogue', 'physician', 'physicist', 'police_officer', 'political_scientist', 'politician', 'presenter', 'printer', 'professor', 'psychiatrist', 'psychotherapist', 'publisher', 'radio_personality', 'research_assistant', 'research_fellow', 'scientist', 'singer', 'slavicist', 'social_pedagogue', 'social_scientist', 'social_worker', 'sociologist', 'songwriter', 'speed_skater', 'spokesperson', 'sport_cyclist', 'stage_actor', 'student', 'surgeon', 'swimmer', 'tailor', 'tax_advisor', 'teacher', 'temporary_career_soldier', 'theologian', 'trade_unionist', 'translator', 'treasurer', 'triathlete', 'university_teacher', 'unknown', 'unofficial_collaborator', 'veterinarian', 'warehouseman', 'white-collar_worker', 'winegrower', 'writer', 'academic', 'actor', 'agriculturer', 'archivist', 'art_historian', 'assessor', 'athletics_competitor', 'auto_mechanic', 'banker', 'beauty_pageant_contestant', 'beekeeper', 'biochemist', 'biographer', 'butcher', 'carpenter', 'catholic_priest', 'civil_servant', 'diplom.merchant', 'drafter', 'ecologist', 'electrical_engineer', 'esperantist', 'feminist', 'film_director', 'film_producer', 'government_veterinarian', 'handball_player', 'high_school_teacher', 'historian_of_the_modern_age', 'house_painter', 'human_rights_activist', 'intelligence_officer', 'japanologist', 'javelin_thrower', 'judoka', 'jurist.consultant', 'librarian', 'locksmith', 'miller', 'miner', 'music_publisher', 'neurologist', 'non.fiction_writer', 'notary', 'novelist', 'pastor', 'pathologist', 'peace_activist', 'peace_researcher', 'pharmacist', 'pharmacologist', 'philosopher', 'photographer', 'physiotherapist', 'pianist', 'poet_lawyer', 'postgraduate_business_degree_holder', 'psychologist', 'pundit', 'resistance_fighter', 'rowing_official', 'school_teacher', 'screenwriter', 'sculptor', 'soldier', 'statesperson', 'technician', 'television_presenter', 'translators_and_interpreters', 'white.collar_worker', 'zoologist']\n",
            "\n",
            "\n",
            "Sheet: sco_profession\n",
            "Headers: ['wikidataid', 'accountant', 'agronomist', 'aristocrat', 'association_football_referee', 'athletics_competitor', 'author', 'banker', 'blogger', 'businessperson', 'chartered_accountant', 'computer_scientist', 'council_member', 'cricketer', 'dentist', 'economist', 'engineer', 'farmer', 'general_practitioner', 'hotel_manager', 'journalist', 'land_agent', 'lawyer', 'non-fiction_writer', 'police_officer', 'politician', 'restaurateur', 'social_worker', 'teacher', 'television_director', 'television_producer', 'trade_unionist', 'university_teacher', 'writer', 'advocate', 'agriculturer', 'association_football_player', 'autobiographer', 'biographer', 'film_producer', 'historian', 'literary_critic', 'midwife', 'neurosurgeon', 'non.fiction_writer', 'psychiatrist', 'solicitor', 'surgeon', 'unknown']\n",
            "\n",
            "\n"
          ]
        }
      ]
    },
    {
      "cell_type": "markdown",
      "source": [
        "# Common and Uncommon Column Names List"
      ],
      "metadata": {
        "id": "xUk0BYLodPam"
      }
    },
    {
      "cell_type": "code",
      "source": [
        "merged_file_path = \"/content/gdrive/MyDrive/CLD/1_Merged/Core_merged.xlsx\"\n",
        "\n",
        "# Read the \"Core\" merged Excel file\n",
        "merged_excel_reader = pd.ExcelFile(merged_file_path)\n",
        "\n",
        "# Get headers from all sheets\n",
        "all_sheet_headers = []\n",
        "\n",
        "# Initialize a set with the column names from the first sheet\n",
        "common_column_names = set(pd.read_excel(merged_excel_reader, merged_excel_reader.sheet_names[0]).columns)\n",
        "\n",
        "# Initialize a set to store all column names\n",
        "all_column_names = set()\n",
        "\n",
        "# Iterate through each sheet in the merged Excel file\n",
        "for sheet_name in merged_excel_reader.sheet_names:\n",
        "    # Read each sheet into a DataFrame\n",
        "    df = pd.read_excel(merged_excel_reader, sheet_name)\n",
        "\n",
        "    # Get headers of the DataFrame\n",
        "    sheet_headers = set(df.columns)\n",
        "\n",
        "    # Update the set with the intersection of current sheet headers and common column names\n",
        "    common_column_names.intersection_update(sheet_headers)\n",
        "\n",
        "    # Update the set with all column names in the current sheet\n",
        "    all_column_names.update(sheet_headers)\n",
        "\n",
        "# Print the common column names\n",
        "print(\"Common Column Names across all sheets in Core directory:\", common_column_names)\n",
        "\n",
        "# Print the column names that are not present in the common columns list\n",
        "not_in_common_column_names = all_column_names - common_column_names\n",
        "print(\"Column Names not present in common columns:\", not_in_common_column_names)"
      ],
      "metadata": {
        "colab": {
          "base_uri": "https://localhost:8080/"
        },
        "id": "d2_pR5o3czPe",
        "outputId": "5a697cea-5cbd-4315-c901-ca20336a82b5"
      },
      "execution_count": null,
      "outputs": [
        {
          "output_type": "stream",
          "name": "stdout",
          "text": [
            "Common Column Names across all sheets in Core directory: {'deathplace', 'religion', 'country', 'birth', 'wikidataid', 'birthplace', 'wikititle', 'pageid', 'sex', 'death'}\n",
            "Column Names not present in common columns: {'ethnicity', 'name', 'name_ja', 'name_en'}\n"
          ]
        }
      ]
    }
  ]
}